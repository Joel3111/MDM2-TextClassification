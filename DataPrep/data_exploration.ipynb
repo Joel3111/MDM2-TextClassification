{
 "cells": [
  {
   "cell_type": "code",
   "execution_count": 11,
   "metadata": {},
   "outputs": [],
   "source": [
    "import pandas as pd\n",
    "\n",
    "# Pfad zu deiner Parquet-Datei\n",
    "parquet_file_path = r'C:\\Users\\joele\\Desktop\\MDM_Project2\\test-00000-of-00001.parquet'\n",
    "\n",
    "# Laden der Parquet-Datei\n",
    "df = pd.read_parquet(parquet_file_path)"
   ]
  },
  {
   "cell_type": "code",
   "execution_count": 13,
   "metadata": {},
   "outputs": [],
   "source": [
    "from sklearn.model_selection import train_test_split\n",
    "\n",
    "# Labels umkodieren für binäre Klassifikation (optional, basierend auf deiner Analyse)\n",
    "df['label'] = df['label'].apply(lambda x: 1 if x > 2 else 0)\n",
    "\n",
    "# Aufteilung der Daten in Trainings- und Testdaten (80% Training, 20% Test)\n",
    "train_df, test_df = train_test_split(df, test_size=0.20, random_state=42)\n"
   ]
  },
  {
   "cell_type": "code",
   "execution_count": 14,
   "metadata": {},
   "outputs": [],
   "source": [
    "train_df.to_csv('train_data.csv', index=False)\n",
    "test_df.to_csv('test_data.csv', index=False)\n"
   ]
  },
  {
   "cell_type": "code",
   "execution_count": 15,
   "metadata": {},
   "outputs": [
    {
     "name": "stdout",
     "output_type": "stream",
     "text": [
      "   label                                               text\n",
      "0      1  I LOVE Insert Coins! I always take my friends ...\n",
      "1      1  My friends and I attempted to go to Spoon with...\n",
      "2      1  BEST Carpet cleaning company I've ever used. L...\n",
      "3      0  Food is just good, not great. Vanilla custard ...\n",
      "4      1  My husband and I loved this place. The staff w...\n",
      "   label                                               text\n",
      "0      1  Came a few days ago for a lease, wasn't sure o...\n",
      "1      0  I chose the 4 Queens for my visit to Las Vegas...\n",
      "2      1  I went here on the day of a wedding (I'm from ...\n",
      "3      0  Isn't it strange how the little things can sou...\n",
      "4      1  Visit here several times a year. The food is a...\n"
     ]
    },
    {
     "ename": "NameError",
     "evalue": "name 'np' is not defined",
     "output_type": "error",
     "traceback": [
      "\u001b[1;31m---------------------------------------------------------------------------\u001b[0m",
      "\u001b[1;31mNameError\u001b[0m                                 Traceback (most recent call last)",
      "Cell \u001b[1;32mIn[15], line 9\u001b[0m\n\u001b[0;32m      6\u001b[0m \u001b[38;5;28mprint\u001b[39m(test_df_loaded\u001b[38;5;241m.\u001b[39mhead())   \u001b[38;5;66;03m# Zeigt die ersten Zeilen des geladenen Testdatensatzes\u001b[39;00m\n\u001b[0;32m      8\u001b[0m \u001b[38;5;66;03m# Laden der NumPy-Daten zur Überprüfung\u001b[39;00m\n\u001b[1;32m----> 9\u001b[0m data \u001b[38;5;241m=\u001b[39m \u001b[43mnp\u001b[49m\u001b[38;5;241m.\u001b[39mload(\u001b[38;5;124m'\u001b[39m\u001b[38;5;124mprocessed_data.npz\u001b[39m\u001b[38;5;124m'\u001b[39m)\n\u001b[0;32m     10\u001b[0m X_loaded \u001b[38;5;241m=\u001b[39m data[\u001b[38;5;124m'\u001b[39m\u001b[38;5;124mX\u001b[39m\u001b[38;5;124m'\u001b[39m]\n\u001b[0;32m     11\u001b[0m y_loaded \u001b[38;5;241m=\u001b[39m data[\u001b[38;5;124m'\u001b[39m\u001b[38;5;124my\u001b[39m\u001b[38;5;124m'\u001b[39m]\n",
      "\u001b[1;31mNameError\u001b[0m: name 'np' is not defined"
     ]
    }
   ],
   "source": [
    "# Laden der CSV-Dateien zur Überprüfung\n",
    "import numpy as np\n",
    "\n",
    "\n",
    "train_df_loaded = pd.read_csv('train_data.csv')\n",
    "test_df_loaded = pd.read_csv('test_data.csv')\n",
    "\n",
    "print(train_df_loaded.head())  # Zeigt die ersten Zeilen des geladenen Trainingsdatensatzes\n",
    "print(test_df_loaded.head())   # Zeigt die ersten Zeilen des geladenen Testdatensatzes\n",
    "\n",
    "# Laden der NumPy-Daten zur Überprüfung\n",
    "data = np.load('processed_data.npz')\n",
    "X_loaded = data['X']\n",
    "y_loaded = data['y']\n",
    "\n",
    "print(X_loaded.shape)  # Zeigt die Dimension der Feature-Matrix\n",
    "print(y_loaded.shape)  # Zeigt die Dimension des Label-Arrays\n"
   ]
  }
 ],
 "metadata": {
  "kernelspec": {
   "display_name": "Python 3",
   "language": "python",
   "name": "python3"
  },
  "language_info": {
   "codemirror_mode": {
    "name": "ipython",
    "version": 3
   },
   "file_extension": ".py",
   "mimetype": "text/x-python",
   "name": "python",
   "nbconvert_exporter": "python",
   "pygments_lexer": "ipython3",
   "version": "3.12.1"
  }
 },
 "nbformat": 4,
 "nbformat_minor": 2
}
